{
 "cells": [
  {
   "cell_type": "code",
   "execution_count": null,
   "id": "fb852392",
   "metadata": {},
   "outputs": [],
   "source": [
    "MY_EMAIL = \"\"\n",
    "MY_GMAIL_APP_PASSWORD=\"\""
   ]
  },
  {
   "cell_type": "code",
   "execution_count": null,
   "id": "02d1d3eb",
   "metadata": {},
   "outputs": [],
   "source": [
    "site = \"https://www.payngo.co.il/computers-pcs/smartphones/smartphones/apple-3095mah.html?cellular_chipset=57433&cellular_screen_size=6687&dir=asc&order=manufacturer\""
   ]
  },
  {
   "cell_type": "code",
   "execution_count": null,
   "id": "3adeb5c9",
   "metadata": {},
   "outputs": [],
   "source": [
    "pip install selenium"
   ]
  },
  {
   "cell_type": "code",
   "execution_count": null,
   "id": "ec1c6ef3",
   "metadata": {},
   "outputs": [],
   "source": [
    "import urllib3\n",
    "# from urllib3.request import Request, urlop\n",
    "from bs4 import BeautifulSoup \n",
    "\n",
    "http = urllib3.PoolManager()\n",
    "\n",
    "response = http.request('GET', site)\n",
    "soup = BeautifulSoup(response.data)\n",
    "  \n",
    "soup"
   ]
  },
  {
   "cell_type": "code",
   "execution_count": null,
   "id": "12400bd8",
   "metadata": {},
   "outputs": [],
   "source": [
    "from bs4 import BeautifulSoup\n",
    "import urllib3\n",
    "import requests\n",
    "import time\n",
    "import re\n",
    "import urllib.parse\n",
    "from urllib.parse import unquote\n",
    "from lxml import html\n",
    "\n",
    "def get_page_html_soup(url):\n",
    "    http = urllib3.PoolManager()\n",
    "    \n",
    "    response = http.request('GET', site)\n",
    "    soup = BeautifulSoup(response.data)\n",
    "    return soup\n",
    "\n",
    "\n",
    "def check_item_in_stock(page_html_soup):\n",
    "    out_of_stock_divs = page_html_soup.select('button[class=\"tocart\"]')\n",
    "    print(out_of_stock_divs)\n",
    "    return len(out_of_stock_divs) != 0\n",
    "\n",
    "def check_inventory():\n",
    "    url = site\n",
    "    page_html_soup = get_page_html_soup(url)\n",
    "    if check_item_in_stock(page_html_soup):\n",
    "        print(\"In stock\")\n",
    "        return True\n",
    "    else:\n",
    "        print(\"Out of stock\")\n",
    "        return False"
   ]
  },
  {
   "cell_type": "code",
   "execution_count": null,
   "id": "ba68cb96",
   "metadata": {},
   "outputs": [],
   "source": [
    "import smtplib\n",
    "from email.mime.text import MIMEText\n",
    "\n",
    "def sendEmailToMyself():\n",
    "    me = MY_EMAIL\n",
    "    you = me\n",
    "\n",
    "    msg = MIMEText(\"Goooooo nooowwww\\n\" + site)\n",
    "    msg['Subject'] = 'iPhone 13 pro available'\n",
    "    msg['From'] = me\n",
    "    msg['To'] = you\n",
    "\n",
    "    gmail_user = MY_EMAIL\n",
    "    gmail_password = MY_GMAIL_APP_PASSWORD\n",
    "\n",
    "    server = smtplib.SMTP_SSL('smtp.gmail.com', 465)\n",
    "    server.ehlo()\n",
    "    server.login(gmail_user, gmail_password)\n",
    "    server.sendmail(me, [you], msg.as_string())\n",
    "    server.quit()\n"
   ]
  },
  {
   "cell_type": "code",
   "execution_count": null,
   "id": "c7bbe42b",
   "metadata": {},
   "outputs": [],
   "source": [
    "foundInStock=False\n",
    "\n",
    "while not foundInStock:\n",
    "    foundInStock = check_inventory()\n",
    "    if foundInStock:\n",
    "        sendEmailToMyself()\n",
    "    else:\n",
    "        time.sleep(300)\n"
   ]
  }
 ],
 "metadata": {
  "kernelspec": {
   "display_name": "Python 3",
   "language": "python",
   "name": "python3"
  },
  "language_info": {
   "codemirror_mode": {
    "name": "ipython",
    "version": 3
   },
   "file_extension": ".py",
   "mimetype": "text/x-python",
   "name": "python",
   "nbconvert_exporter": "python",
   "pygments_lexer": "ipython3",
   "version": "3.8.8"
  }
 },
 "nbformat": 4,
 "nbformat_minor": 5
}
